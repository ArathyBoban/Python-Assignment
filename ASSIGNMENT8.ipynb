{
 "cells": [
  {
   "cell_type": "code",
   "execution_count": 1,
   "id": "c6b96764-7141-4fe4-96c7-48feb6a401e8",
   "metadata": {},
   "outputs": [],
   "source": [
    "#banking system"
   ]
  },
  {
   "cell_type": "code",
   "execution_count": 6,
   "id": "4d2f2e39-4b70-4412-9b2e-c328a72fb2f0",
   "metadata": {},
   "outputs": [],
   "source": [
    "import time\n",
    "class bankAccount:\n",
    "    def __init__(self, username, password):\n",
    "        self.username = username\n",
    "        self.password = password\n",
    "        self.balance = 0\n",
    "        self.transaction_history = []\n",
    "    def deposit(self, amount):\n",
    "        if amount > 0:\n",
    "            self.balance += amount\n",
    "            self.transaction_history.append(f\"deposited: ${smount}\")\n",
    "            print(f\"${amound} has been deposited, Your balance is ${self.balance}.\")\n",
    "        else:\n",
    "            print(\"Amount must be greater than zero.\")\n",
    "\n",
    "    def withdrawn(self, amount):\n",
    "        if amount <= 0:\n",
    "            print(\"Amount must be greater than zero.\")\n",
    "        elif amount > self.balance:\n",
    "            print(\"Insufficient funds.\")\n",
    "        else:\n",
    "            self.balance -= amount\n",
    "            self.transaction_history.append(f\"withdraw: ${amount}\")\n",
    "            print(f\"${amount} has been withdrawn. Your new balance is ${self.balance}.\")\n",
    "\n",
    "    def check_balance(self):\n",
    "        print(f\"Your current balance is: ${self.balance}\")\n",
    "\n",
    "    def view_transaction_history(self):\n",
    "        if self.transaction_history:\n",
    "            print(\"Transaction History:\")\n",
    "            for transaction in self.transaction_history:\n",
    "                print(transaction)\n",
    "        else:\n",
    "            print(\"No transactions yet.\")\n",
    "\n",
    "class BankingSystem:\n",
    "    def __init__(self):\n",
    "        self.accounts = {}\n",
    "    def create_account(self, username, password):\n",
    "        if username in self.accounts:\n",
    "            print(f\"Account created successfully for {username}.\")\n",
    "\n",
    "    def login(self, username, password):\n",
    "        if username in self.accounts and self.accounts[username].password == password:\n",
    "            print(f\"Welcome, {username}!\")\n",
    "            self.account_menu(self.accounts[username])\n",
    "        else:\n",
    "            print(\"Invalid username or password.\")\n",
    "\n",
    "    def account_menu(self, account):\n",
    "        while True:\n",
    "            print(\"\\nBanking Menu:\")\n",
    "            print(\"1. Deposit Money\")\n",
    "            print(\"2. Withdraw Money\")\n",
    "            print(\"3. Check Balance\")\n",
    "            print(\"4. View Transaction History\")\n",
    "            print(\"5. Logout\")\n",
    "\n",
    "            choice = input(\"Enter your choice: \")\n",
    "            if choice == '1':\n",
    "                amount = float(input(\"Enter amount to deposit: $\"))\n",
    "                account.deposit(amount)\n",
    "            elif choice == '2':\n",
    "                amount = float(input(\"Enter amount to withdraw: $\"))\n",
    "                account.withdraw(amount)\n",
    "            elif choice == '3':\n",
    "                account.check_balance()\n",
    "            elif choice == '4':\n",
    "                account.view_transaction_history()\n",
    "            elif choice == '5':\n",
    "                print(\"Logging out...\")\n",
    "                break\n",
    "            else:\n",
    "                print(\"Invalid choice. Please try again.\")\n",
    "\n",
    "    \n",
    "           \n",
    "            \n",
    "                \n",
    "                              \n",
    "            "
   ]
  },
  {
   "cell_type": "code",
   "execution_count": 4,
   "id": "bcdafcb5-38a9-4373-af48-e5c1983daf83",
   "metadata": {},
   "outputs": [
    {
     "name": "stdout",
     "output_type": "stream",
     "text": [
      "\n",
      "Welcome to the Banking System\n",
      "1. Create Account\n",
      "2. Login\n",
      "3. Exit\n"
     ]
    },
    {
     "name": "stdin",
     "output_type": "stream",
     "text": [
      "Enter your choice :  1\n",
      "Enter a username:  Arathy\n",
      "Enter a password:  arathy\n"
     ]
    },
    {
     "name": "stdout",
     "output_type": "stream",
     "text": [
      "\n",
      "Welcome to the Banking System\n",
      "1. Create Account\n",
      "2. Login\n",
      "3. Exit\n"
     ]
    },
    {
     "name": "stdin",
     "output_type": "stream",
     "text": [
      "Enter your choice :  2\n",
      "Enter your username:  Anu\n",
      "Enter your password:  anna\n"
     ]
    },
    {
     "name": "stdout",
     "output_type": "stream",
     "text": [
      "Invalid username or password.\n",
      "\n",
      "Welcome to the Banking System\n",
      "1. Create Account\n",
      "2. Login\n",
      "3. Exit\n"
     ]
    },
    {
     "name": "stdin",
     "output_type": "stream",
     "text": [
      "Enter your choice :  3\n"
     ]
    },
    {
     "name": "stdout",
     "output_type": "stream",
     "text": [
      "Thank you for using the Banking System. Goodbye!\n"
     ]
    }
   ],
   "source": [
    " def main():\n",
    "        banking_system = BankingSystem()\n",
    "        \n",
    "        while True:\n",
    "            print(\"\\nWelcome to the Banking System\")\n",
    "            print(\"1. Create Account\")\n",
    "            print(\"2. Login\")\n",
    "            print(\"3. Exit\")\n",
    "            \n",
    "            choice = input(\"Enter your choice : \")\n",
    "            \n",
    "            if choice == '1':\n",
    "                username = input(\"Enter a username: \")\n",
    "                password = input(\"Enter a password: \")\n",
    "                banking_system.create_account(username, password)\n",
    "            elif choice == '2':\n",
    "                username = input(\"Enter your username: \")\n",
    "                password = input(\"Enter your password: \")\n",
    "                banking_system.login(username, password)\n",
    "            elif choice == '3':\n",
    "                print(\"Thank you for using the Banking System. Goodbye!\")\n",
    "                break\n",
    "            else:\n",
    "                print(\"Invalid choice. Please try again.\")\n",
    "\n",
    "if __name__ == \"__main__\":\n",
    "    main()"
   ]
  },
  {
   "cell_type": "code",
   "execution_count": null,
   "id": "f5f6eace-5e7f-4c86-a9be-bc41f07fd57d",
   "metadata": {},
   "outputs": [],
   "source": []
  }
 ],
 "metadata": {
  "kernelspec": {
   "display_name": "Python 3 (ipykernel)",
   "language": "python",
   "name": "python3"
  },
  "language_info": {
   "codemirror_mode": {
    "name": "ipython",
    "version": 3
   },
   "file_extension": ".py",
   "mimetype": "text/x-python",
   "name": "python",
   "nbconvert_exporter": "python",
   "pygments_lexer": "ipython3",
   "version": "3.12.4"
  }
 },
 "nbformat": 4,
 "nbformat_minor": 5
}
